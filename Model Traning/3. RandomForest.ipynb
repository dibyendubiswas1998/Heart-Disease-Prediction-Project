{
 "cells": [
  {
   "cell_type": "code",
   "execution_count": 1,
   "metadata": {},
   "outputs": [],
   "source": [
    "import numpy as np\n",
    "import pandas as pd\n",
    "import matplotlib.pyplot as plt\n",
    "import seaborn as sns\n",
    "\n",
    "from sklearn import preprocessing\n",
    "import scipy.stats as stats\n",
    "from sklearn.model_selection import train_test_split, cross_val_score, GridSearchCV\n",
    "\n",
    "\n",
    "from sklearn.metrics import accuracy_score, confusion_matrix, classification_report\n",
    "from sklearn import metrics\n",
    "\n",
    "from sklearn.ensemble import RandomForestClassifier\n",
    "import joblib"
   ]
  },
  {
   "cell_type": "code",
   "execution_count": 2,
   "metadata": {},
   "outputs": [
    {
     "data": {
      "text/html": [
       "<div>\n",
       "<style scoped>\n",
       "    .dataframe tbody tr th:only-of-type {\n",
       "        vertical-align: middle;\n",
       "    }\n",
       "\n",
       "    .dataframe tbody tr th {\n",
       "        vertical-align: top;\n",
       "    }\n",
       "\n",
       "    .dataframe thead th {\n",
       "        text-align: right;\n",
       "    }\n",
       "</style>\n",
       "<table border=\"1\" class=\"dataframe\">\n",
       "  <thead>\n",
       "    <tr style=\"text-align: right;\">\n",
       "      <th></th>\n",
       "      <th>age</th>\n",
       "      <th>sex</th>\n",
       "      <th>cp</th>\n",
       "      <th>trestbps</th>\n",
       "      <th>chol</th>\n",
       "      <th>fbs</th>\n",
       "      <th>restecg</th>\n",
       "      <th>thalach</th>\n",
       "      <th>exang</th>\n",
       "      <th>oldpeak</th>\n",
       "      <th>slope</th>\n",
       "      <th>ca</th>\n",
       "      <th>thal</th>\n",
       "      <th>target</th>\n",
       "    </tr>\n",
       "  </thead>\n",
       "  <tbody>\n",
       "    <tr>\n",
       "      <th>0</th>\n",
       "      <td>63</td>\n",
       "      <td>1</td>\n",
       "      <td>3</td>\n",
       "      <td>145.0</td>\n",
       "      <td>233.0</td>\n",
       "      <td>1</td>\n",
       "      <td>0</td>\n",
       "      <td>150.0</td>\n",
       "      <td>0</td>\n",
       "      <td>2.3</td>\n",
       "      <td>0</td>\n",
       "      <td>0.0</td>\n",
       "      <td>1.0</td>\n",
       "      <td>1</td>\n",
       "    </tr>\n",
       "    <tr>\n",
       "      <th>1</th>\n",
       "      <td>37</td>\n",
       "      <td>1</td>\n",
       "      <td>2</td>\n",
       "      <td>130.0</td>\n",
       "      <td>250.0</td>\n",
       "      <td>0</td>\n",
       "      <td>1</td>\n",
       "      <td>187.0</td>\n",
       "      <td>0</td>\n",
       "      <td>3.5</td>\n",
       "      <td>0</td>\n",
       "      <td>0.0</td>\n",
       "      <td>2.0</td>\n",
       "      <td>1</td>\n",
       "    </tr>\n",
       "    <tr>\n",
       "      <th>2</th>\n",
       "      <td>41</td>\n",
       "      <td>0</td>\n",
       "      <td>1</td>\n",
       "      <td>130.0</td>\n",
       "      <td>204.0</td>\n",
       "      <td>0</td>\n",
       "      <td>0</td>\n",
       "      <td>172.0</td>\n",
       "      <td>0</td>\n",
       "      <td>1.4</td>\n",
       "      <td>2</td>\n",
       "      <td>0.0</td>\n",
       "      <td>2.0</td>\n",
       "      <td>1</td>\n",
       "    </tr>\n",
       "    <tr>\n",
       "      <th>3</th>\n",
       "      <td>56</td>\n",
       "      <td>1</td>\n",
       "      <td>1</td>\n",
       "      <td>120.0</td>\n",
       "      <td>236.0</td>\n",
       "      <td>0</td>\n",
       "      <td>1</td>\n",
       "      <td>178.0</td>\n",
       "      <td>0</td>\n",
       "      <td>0.8</td>\n",
       "      <td>2</td>\n",
       "      <td>0.0</td>\n",
       "      <td>2.0</td>\n",
       "      <td>1</td>\n",
       "    </tr>\n",
       "    <tr>\n",
       "      <th>4</th>\n",
       "      <td>57</td>\n",
       "      <td>0</td>\n",
       "      <td>0</td>\n",
       "      <td>120.0</td>\n",
       "      <td>354.0</td>\n",
       "      <td>0</td>\n",
       "      <td>1</td>\n",
       "      <td>163.0</td>\n",
       "      <td>1</td>\n",
       "      <td>0.6</td>\n",
       "      <td>2</td>\n",
       "      <td>0.0</td>\n",
       "      <td>2.0</td>\n",
       "      <td>1</td>\n",
       "    </tr>\n",
       "  </tbody>\n",
       "</table>\n",
       "</div>"
      ],
      "text/plain": [
       "   age  sex  cp  trestbps   chol  fbs  restecg  thalach  exang  oldpeak  \\\n",
       "0   63    1   3     145.0  233.0    1        0    150.0      0      2.3   \n",
       "1   37    1   2     130.0  250.0    0        1    187.0      0      3.5   \n",
       "2   41    0   1     130.0  204.0    0        0    172.0      0      1.4   \n",
       "3   56    1   1     120.0  236.0    0        1    178.0      0      0.8   \n",
       "4   57    0   0     120.0  354.0    0        1    163.0      1      0.6   \n",
       "\n",
       "   slope   ca  thal  target  \n",
       "0      0  0.0   1.0       1  \n",
       "1      0  0.0   2.0       1  \n",
       "2      2  0.0   2.0       1  \n",
       "3      2  0.0   2.0       1  \n",
       "4      2  0.0   2.0       1  "
      ]
     },
     "execution_count": 2,
     "metadata": {},
     "output_type": "execute_result"
    }
   ],
   "source": [
    "data = pd.read_csv(\"E:\\\\Dibyendu\\Projects\\\\1. Machine Learning Projects\\\\Heart Disease Project-1\\\\Prepared_data\\\\Heart Disease.csv\")\n",
    "\n",
    "data.head()"
   ]
  },
  {
   "cell_type": "code",
   "execution_count": 3,
   "metadata": {},
   "outputs": [],
   "source": [
    "X = data.drop('target', axis=1)\n",
    "Y = data['target']"
   ]
  },
  {
   "cell_type": "code",
   "execution_count": 4,
   "metadata": {},
   "outputs": [],
   "source": [
    "x_train,x_test,y_train,y_test = train_test_split(X, Y, test_size= 0.25, random_state = 355)"
   ]
  },
  {
   "cell_type": "code",
   "execution_count": 5,
   "metadata": {},
   "outputs": [],
   "source": [
    "random = RandomForestClassifier()\n",
    "\n",
    "grid_param = {\n",
    "    \"n_estimators\" : [90,100,115,130,150],\n",
    "    'criterion': ['gini', 'entropy'],\n",
    "    'max_depth' : range(2,10,1),\n",
    "    'min_samples_leaf' : range(1,10,1),\n",
    "    'min_samples_split': range(2,10,1),\n",
    "    'max_features' : ['auto','log2']\n",
    "}\n",
    "\n",
    "grid_search = GridSearchCV(estimator = random,\n",
    "                     param_grid = grid_param,\n",
    "                     cv=5,\n",
    "                     n_jobs =-1)\n",
    "\n"
   ]
  },
  {
   "cell_type": "code",
   "execution_count": 6,
   "metadata": {},
   "outputs": [],
   "source": [
    "# grid_search.fit(x_train,y_train)"
   ]
  },
  {
   "cell_type": "code",
   "execution_count": 8,
   "metadata": {},
   "outputs": [
    {
     "name": "stdout",
     "output_type": "stream",
     "text": [
      "{'criterion': 'entropy', 'max_depth': 12, 'max_features': 'log2', 'min_samples_leaf': 1, 'min_samples_split': 5, 'n_estimators': 90}\n"
     ]
    }
   ],
   "source": [
    "best_parameters = grid_search.best_params_\n",
    "print(best_parameters)"
   ]
  },
  {
   "cell_type": "code",
   "execution_count": 35,
   "metadata": {},
   "outputs": [
    {
     "data": {
      "text/plain": [
       "RandomForestClassifier(bootstrap=True, ccp_alpha=0.0, class_weight=None,\n",
       "                       criterion='entropy', max_depth=12, max_features='log2',\n",
       "                       max_leaf_nodes=None, max_samples=None,\n",
       "                       min_impurity_decrease=0.0, min_impurity_split=None,\n",
       "                       min_samples_leaf=1, min_samples_split=5,\n",
       "                       min_weight_fraction_leaf=0.0, n_estimators=90,\n",
       "                       n_jobs=None, oob_score=False, random_state=None,\n",
       "                       verbose=0, warm_start=False)"
      ]
     },
     "execution_count": 35,
     "metadata": {},
     "output_type": "execute_result"
    }
   ],
   "source": [
    "random = RandomForestClassifier(criterion='entropy', max_depth=12, max_features='log2', \n",
    "                                min_samples_leaf=1, min_samples_split=5, n_estimators=90,\n",
    "                               bootstrap=True)\n",
    "\n",
    "\n",
    "random.fit(x_train, y_train)"
   ]
  },
  {
   "cell_type": "code",
   "execution_count": 36,
   "metadata": {},
   "outputs": [
    {
     "name": "stdout",
     "output_type": "stream",
     "text": [
      "Based On trian Data\n",
      "\n",
      "\n",
      "Confusion_matrix: \n",
      " [[104   2]\n",
      " [  1 120]] \n",
      "\n",
      "Accuracy_score:  0.986784140969163 \n",
      "\n",
      "classification_report: \n",
      "\n",
      "               precision    recall  f1-score   support\n",
      "\n",
      "           0       0.99      0.98      0.99       106\n",
      "           1       0.98      0.99      0.99       121\n",
      "\n",
      "    accuracy                           0.99       227\n",
      "   macro avg       0.99      0.99      0.99       227\n",
      "weighted avg       0.99      0.99      0.99       227\n",
      "\n"
     ]
    }
   ],
   "source": [
    "# Check Accuracy based on Train data\n",
    "\n",
    "y_predict = random.predict(x_train)\n",
    "\n",
    "print(\"Based On trian Data\\n\\n\")\n",
    "print(\"Confusion_matrix: \\n\",confusion_matrix(y_train, y_predict), '\\n')\n",
    "print(\"Accuracy_score: \", accuracy_score(y_train, y_predict), '\\n')\n",
    "print(\"classification_report: \\n\\n\", classification_report(y_train, y_predict))"
   ]
  },
  {
   "cell_type": "code",
   "execution_count": 37,
   "metadata": {},
   "outputs": [
    {
     "data": {
      "text/plain": [
       "0.9864338063308904"
      ]
     },
     "execution_count": 37,
     "metadata": {},
     "output_type": "execute_result"
    },
    {
     "data": {
      "image/png": "[encoded data removed]",
      "text/plain": [
       "<Figure size 432x288 with 1 Axes>"
      ]
     },
     "metadata": {
      "needs_background": "light"
     },
     "output_type": "display_data"
    }
   ],
   "source": [
    "metrics.plot_roc_curve(random, x_train, y_train)\n",
    "metrics.roc_auc_score(y_train, y_predict, average=None)"
   ]
  },
  {
   "cell_type": "code",
   "execution_count": 38,
   "metadata": {},
   "outputs": [
    {
     "name": "stdout",
     "output_type": "stream",
     "text": [
      "Based On test Data\n",
      "\n",
      "\n",
      "Confusion_matrix: \n",
      " [[26  6]\n",
      " [ 5 39]] \n",
      "\n",
      "Accuracy_score:  0.8552631578947368 \n",
      "\n",
      "classification_report: \n",
      "\n",
      "               precision    recall  f1-score   support\n",
      "\n",
      "           0       0.84      0.81      0.83        32\n",
      "           1       0.87      0.89      0.88        44\n",
      "\n",
      "    accuracy                           0.86        76\n",
      "   macro avg       0.85      0.85      0.85        76\n",
      "weighted avg       0.85      0.86      0.85        76\n",
      "\n"
     ]
    }
   ],
   "source": [
    "# Based on Test Data\n",
    "\n",
    "y_predict1 = random.predict(x_test)\n",
    "\n",
    "print(\"Based On test Data\\n\\n\")\n",
    "print(\"Confusion_matrix: \\n\",confusion_matrix(y_test, y_predict1), '\\n')\n",
    "print(\"Accuracy_score: \", accuracy_score(y_test,y_predict1), '\\n')\n",
    "print(\"classification_report: \\n\\n\", classification_report(y_test,y_predict1))"
   ]
  },
  {
   "cell_type": "code",
   "execution_count": 39,
   "metadata": {},
   "outputs": [
    {
     "data": {
      "text/plain": [
       "0.8494318181818181"
      ]
     },
     "execution_count": 39,
     "metadata": {},
     "output_type": "execute_result"
    },
    {
     "data": {
      "image/png": "[encoded data removed]",
      "text/plain": [
       "<Figure size 432x288 with 1 Axes>"
      ]
     },
     "metadata": {
      "needs_background": "light"
     },
     "output_type": "display_data"
    }
   ],
   "source": [
    "metrics.plot_roc_curve(random, x_test, y_test)\n",
    "metrics.roc_auc_score(y_test, y_predict1, average=None)"
   ]
  },
  {
   "cell_type": "markdown",
   "metadata": {},
   "source": [
    "# Here using Random Forest,\n",
    "\n",
    "\n",
    "    for train data:--\n",
    "        \n",
    "        accuracy score is: 99% (***)\n",
    "        precision is:  99%\n",
    "        recall is: 99%\n",
    "\n",
    "            \n",
    "    for test data:--\n",
    "        \n",
    "        accuracy score is: 85% (***)\n",
    "        precision is:  85%\n",
    "        recall is: 866%\n",
    "            \n",
    "            \n",
    "# Therefore we can say that my Model is not a Generalized Model (low bias and high variance)"
   ]
  },
  {
   "cell_type": "code",
   "execution_count": null,
   "metadata": {},
   "outputs": [],
   "source": []
  },
  {
   "cell_type": "code",
   "execution_count": 41,
   "metadata": {},
   "outputs": [
    {
     "data": {
      "text/plain": [
       "['E:\\\\Dibyendu\\\\Projects\\\\1. Machine Learning Projects\\\\Heart Disease Project-1\\\\Models_save\\\\random.pkl']"
      ]
     },
     "execution_count": 41,
     "metadata": {},
     "output_type": "execute_result"
    }
   ],
   "source": [
    "# Model Dumping\n",
    "\n",
    "\n",
    "joblib.dump(random, \"E:\\\\Dibyendu\\Projects\\\\1. Machine Learning Projects\\\\Heart Disease Project-1\\\\Models_save\\\\random.pkl\")\n"
   ]
  },
  {
   "cell_type": "code",
   "execution_count": null,
   "metadata": {},
   "outputs": [],
   "source": []
  }
 ],
 "metadata": {
  "kernelspec": {
   "display_name": "Python 3",
   "language": "python",
   "name": "python3"
  },
  "language_info": {
   "codemirror_mode": {
    "name": "ipython",
    "version": 3
   },
   "file_extension": ".py",
   "mimetype": "text/x-python",
   "name": "python",
   "nbconvert_exporter": "python",
   "pygments_lexer": "ipython3",
   "version": "3.7.6"
  }
 },
 "nbformat": 4,
 "nbformat_minor": 4
}
